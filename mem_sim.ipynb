{
 "cells": [
  {
   "cell_type": "markdown",
   "id": "4c51ec47-a512-449c-9c94-8c363d7b8fb4",
   "metadata": {},
   "source": [
    "## Monte Carlo simulation of stable membrane curvatures\n",
    "\n",
    "##### Using functions from mem_curve.py"
   ]
  },
  {
   "cell_type": "code",
   "execution_count": 1,
   "id": "24e91bb1-04da-444a-9240-c4132542aac9",
   "metadata": {},
   "outputs": [],
   "source": [
    "# Standard imports\n",
    "import matplotlib.pyplot as plt\n",
    "\n",
    "# Custom imports\n",
    "from mem_curve import *"
   ]
  },
  {
   "cell_type": "markdown",
   "id": "f0648e03-0542-44a0-9c3c-dd0c0fbdc915",
   "metadata": {},
   "source": [
    "### Running simulation, replica exchange, annealing\n",
    "\n",
    "#### Simulation:\n",
    "##### Initialise model membrane, run Monte Carlo for <n> steps\n",
    "\n",
    "#### Replica exchange:\n",
    "##### Access surfaces otherwise separated by potential barriers...\n",
    "##### Tune kbT factor up & down to alter acceptance ratio from equilibrium ensemble\n",
    "##### Run parallel simulation windows, can swap replicas between kbT environments\n",
    "\n",
    "#### Annealing:\n",
    "##### Slowly return kbT factor to equilibrium\n",
    "##### If too quick, will form \"glass\" -- initially all moves \"downhill\" & become trapped in metastable state space"
   ]
  },
  {
   "cell_type": "code",
   "execution_count": null,
   "id": "621d4d69-891b-4315-be62-a59a4b868fd3",
   "metadata": {},
   "outputs": [],
   "source": [
    "# Choose number of Monte Carlo steps\n",
    "nsteps = 100\n",
    "\n",
    "# Initialise membrane ensemble\n",
    "membrane_lst = [Model_membrane()]\n",
    "\n",
    "# Calculate first membrane energy\n",
    "# Calculate shape operator\n",
    "S = calc_shape_operator(membrane_lst[0], params.X, params.Y)\n",
    "# Calculate mean and Gaussian curvatures\n",
    "H   = calc_H(S)\n",
    "K_G = calc_K_G(S)\n",
    "# Calculate bending energy\n",
    "energy_lst = [calc_Helfrich_energy(H, K_G)]"
   ]
  },
  {
   "cell_type": "code",
   "execution_count": null,
   "id": "b1419f23-e72b-486e-928b-f6504b568143",
   "metadata": {},
   "outputs": [],
   "source": [
    "# Run simulation\n",
    "for step in range(nsteps):\n",
    "    membrane_lst, energy_lst = montecarlostep(membrane_lst, energy_lst)"
   ]
  },
  {
   "cell_type": "markdown",
   "id": "78cf1d2b-f04f-4c58-85ad-97cddc6c39b8",
   "metadata": {},
   "source": [
    "### Data Analysis"
   ]
  },
  {
   "cell_type": "markdown",
   "id": "f6a600ca-06a6-4bf3-8f10-063d51a9dedd",
   "metadata": {},
   "source": [
    "#### Plot bending energy vs Monte Carlo step\n",
    "#### Plot mean curvature vs Monte Carlo step\n",
    "#### Plot Gaussian curvature vs Monte Carlo step\n",
    "##### ^ are these values expected? Are states stable &/ in equilibrium ensemble?"
   ]
  },
  {
   "cell_type": "code",
   "execution_count": null,
   "id": "3fd54e82-a5b0-4170-9488-38376e1e6fea",
   "metadata": {},
   "outputs": [],
   "source": [
    "# Calculate values every <nframes>\n",
    "nframes = 10\n",
    "\n",
    "H_lst = []\n",
    "K_lst = []\n",
    "\n",
    "for membrane in membrane_list[::nframes]:\n",
    "\n",
    "    # Calculate shape operator\n",
    "    S = calc_shape_operator(membrane, params.X, params.Y)\n",
    "    # Calculate mean and Gaussian curvatures\n",
    "    H_lst += [calc_H(S)]\n",
    "    K_lst += [calc_K_G(S)]"
   ]
  },
  {
   "cell_type": "code",
   "execution_count": null,
   "id": "6ca5dfc0-4720-4687-b739-deee2fce723f",
   "metadata": {},
   "outputs": [],
   "source": [
    "# Plot energy\n",
    "plt.figure(figsize=[8,5])\n",
    "plt.ylabel('Bending Potential Energy (kbT)')\n",
    "plt.xlabel('Monte Carlo Step')\n",
    "plt.plot(range(1,nsteps+1), energy_lst)\n",
    "plt.show()\n",
    "\n",
    "# Plot mean curvature\n",
    "plt.figure(figsize=[8,5])\n",
    "plt.ylabel('Mean Curvature')\n",
    "plt.xlabel('Monte Carlo Step')\n",
    "plt.plot(range(1,nsteps+1,nframes), H_lst)\n",
    "plt.show()\n",
    "\n",
    "# Plot Gaussian curvature\n",
    "plt.figure(figsize=[8,5])\n",
    "plt.ylabel('Gaussian Curvature')\n",
    "plt.xlabel('Monte Carlo Step')\n",
    "plt.plot(range(1,nsteps+1,nframes), K_lst)\n",
    "plt.show()"
   ]
  },
  {
   "cell_type": "markdown",
   "id": "3af6f009-e3eb-4ad3-977f-1f80deeeb49a",
   "metadata": {},
   "source": [
    "#### Take mean of height (from equilibrium sampled region)\n",
    "##### Is average membrane structure flat?\n",
    "\n",
    "#### Take mean squared height\n",
    "##### How does membrane thickness compare to CWT..?\n",
    "\n",
    "$\\langle h(\\textbf{r})^{2} \\rangle = \\frac{k_bT}{16\\pi \\kappa} L^{2} $"
   ]
  },
  {
   "cell_type": "code",
   "execution_count": null,
   "id": "36f3f33f-10f8-4219-a779-98b66e9f9371",
   "metadata": {},
   "outputs": [],
   "source": [
    "# Calculate values every <nframes>\n",
    "nframes = 10\n",
    "\n",
    "mean_height   = np.zeros( (len(params.X), len(params.Y) )\n",
    "meansq_height = np.zeros( (len(params.X), len(params.Y) )\n",
    "\n",
    "for membrane in membrane_list[::nframes]:\n",
    "\n",
    "    # Calculate height\n",
    "    mem_height     = calc_height(membrane, params.X, params.Y)\n",
    "    mean_height   += mem_height\n",
    "    meansq_height += mem_height**2\n",
    "    \n",
    "mean_height   /= len(membrane_list[::nframes])\n",
    "meansq_height /= len(membrane_list[::nframes])\n",
    "\n",
    "cwt_meansq_h = params.kbT / (16 * np.pi * params.kappa_H) * params.l_x * params.l_y"
   ]
  },
  {
   "cell_type": "code",
   "execution_count": 2,
   "id": "fa7bda8c-6971-4edd-9657-37028b24321d",
   "metadata": {},
   "outputs": [
    {
     "name": "stdout",
     "output_type": "stream",
     "text": [
      "$<h> = $ 0\n",
      "$<h^{2}> =$\n"
     ]
    }
   ],
   "source": [
    "print(f'''\n",
    "<h> = {mean_height} (simulated)\n",
    "<h> = 0.0 (CWT)\n",
    "\n",
    "<h^2> = {meansq_height} (simulated) \n",
    "<h^2> = {cwt_meansq_h} (CWT)''')"
   ]
  },
  {
   "cell_type": "markdown",
   "id": "e1fa8ab0-0465-4d6c-8f0d-cbb3b11b26fd",
   "metadata": {},
   "source": [
    "#### Visualising membrane curvature"
   ]
  },
  {
   "cell_type": "code",
   "execution_count": null,
   "id": "7400c414-62f0-461b-bc29-db09e1fd83f6",
   "metadata": {},
   "outputs": [],
   "source": [
    "# Set plots as pop-ups\n",
    "%matplotlib qt"
   ]
  },
  {
   "cell_type": "code",
   "execution_count": 1,
   "id": "e2ae2ddb-f961-4fbe-afbc-9aeab1f97153",
   "metadata": {},
   "outputs": [],
   "source": [
    "visualise(membrane_lst, nframes=10)"
   ]
  }
 ],
 "metadata": {
  "kernelspec": {
   "display_name": "Python 3 (ipykernel)",
   "language": "python",
   "name": "python3"
  },
  "language_info": {
   "codemirror_mode": {
    "name": "ipython",
    "version": 3
   },
   "file_extension": ".py",
   "mimetype": "text/x-python",
   "name": "python",
   "nbconvert_exporter": "python",
   "pygments_lexer": "ipython3",
   "version": "3.12.4"
  }
 },
 "nbformat": 4,
 "nbformat_minor": 5
}
