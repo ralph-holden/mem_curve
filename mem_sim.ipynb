{
 "cells": [
  {
   "cell_type": "markdown",
   "id": "4c51ec47-a512-449c-9c94-8c363d7b8fb4",
   "metadata": {},
   "source": [
    "## Monte Carlo simulation of stable membrane curvatures\n",
    "\n",
    "##### Using functions from mem_curve.py"
   ]
  },
  {
   "cell_type": "code",
   "execution_count": 1,
   "id": "24e91bb1-04da-444a-9240-c4132542aac9",
   "metadata": {},
   "outputs": [],
   "source": [
    "# Standard imports\n",
    "import matplotlib.pyplot as plt\n",
    "import pandas as pd\n",
    "\n",
    "# Custom imports\n",
    "from mem_curve import *"
   ]
  },
  {
   "cell_type": "markdown",
   "id": "f0648e03-0542-44a0-9c3c-dd0c0fbdc915",
   "metadata": {},
   "source": [
    "### Running simulation, replica exchange, annealing\n",
    "\n",
    "#### Simulation:\n",
    "##### Initialise model membrane, run Monte Carlo for <n> steps\n",
    "\n",
    "#### Replica exchange:\n",
    "##### Access surfaces otherwise separated by potential barriers...\n",
    "##### Tune kbT factor up & down to alter acceptance ratio from equilibrium ensemble\n",
    "##### Run parallel simulation windows, can swap replicas between kbT environments\n",
    "\n",
    "#### Annealing:\n",
    "##### Slowly return kbT factor to equilibrium\n",
    "##### If too quick, will form \"glass\" -- initially all moves \"downhill\" & become trapped in metastable state space"
   ]
  },
  {
   "cell_type": "code",
   "execution_count": 2,
   "id": "c8f4bd3a-8fb0-46cd-98ee-4016597fc60d",
   "metadata": {},
   "outputs": [],
   "source": [
    "# Choose number of Monte Carlo steps\n",
    "nsteps = 1000\n",
    "\n",
    "# Initialise membrane ensemble\n",
    "membrane_lst = [init_model_membrane()]"
   ]
  },
  {
   "cell_type": "code",
   "execution_count": null,
   "id": "7daee5bc-b149-4c21-bd62-d1258875caea",
   "metadata": {},
   "outputs": [],
   "source": [
    "# Track acceptance probability\n",
    "naccepts = 0\n",
    "\n",
    "# Run simulation\n",
    "for step in range(nsteps):\n",
    "    \n",
    "    membrane_lst, accept_move = montecarlostep(membrane_lst)\n",
    "    \n",
    "    naccepts += 1 if accept_move else 0\n",
    "\n",
    "print('Acceptance ratio:', naccepts/nsteps)\n",
    "    \n",
    "#cut_index = 10\n",
    "#membrane_lst, energy_lst = membrane_lst[cut_index:], energy_lst[cut_index:]"
   ]
  },
  {
   "cell_type": "code",
   "execution_count": 4,
   "id": "e01a7444-0b25-4a55-9645-44034b37c85d",
   "metadata": {},
   "outputs": [],
   "source": [
    "# Save data to a csv\n",
    "\n",
    "df = pd.DataFrame(membrane_lst)\n",
    "\n",
    "# Save to CSV with index\n",
    "df.to_csv(\"model_membranes.csv\", index=True)"
   ]
  },
  {
   "cell_type": "markdown",
   "id": "78cf1d2b-f04f-4c58-85ad-97cddc6c39b8",
   "metadata": {},
   "source": [
    "### Data Analysis"
   ]
  },
  {
   "cell_type": "markdown",
   "id": "f6a600ca-06a6-4bf3-8f10-063d51a9dedd",
   "metadata": {},
   "source": [
    "#### Plot bending energy vs Monte Carlo step\n",
    "#### Plot mean curvature vs Monte Carlo step\n",
    "#### Plot Gaussian curvature vs Monte Carlo step\n",
    "##### ^ are these values expected? Are states stable &/ in equilibrium ensemble?"
   ]
  },
  {
   "cell_type": "code",
   "execution_count": 5,
   "id": "3fd54e82-a5b0-4170-9488-38376e1e6fea",
   "metadata": {},
   "outputs": [],
   "source": [
    "# Extract bending energy from membrane_lst of dictionaries\n",
    "energy_lst = [ membrane['energy'] for membrane in membrane_lst ]\n",
    "\n",
    "# Calculate values every <nframes>\n",
    "nframes = 50\n",
    "\n",
    "H_lst = []\n",
    "K_lst = []\n",
    "\n",
    "for membrane in membrane_lst[::nframes]:\n",
    "\n",
    "    # Calculate shape operator\n",
    "    S = calc_shape_operator(membrane, params.X, params.Y)\n",
    "    # Calculate mean and Gaussian curvatures\n",
    "    H_lst += [np.sum(calc_H(S))]\n",
    "    K_lst += [np.sum(calc_K_G(S))]"
   ]
  },
  {
   "cell_type": "code",
   "execution_count": null,
   "id": "32a0802b-0f55-415b-9f2f-b70839c232dc",
   "metadata": {},
   "outputs": [],
   "source": [
    "# Plot energy\n",
    "plt.figure(figsize=[8,5])\n",
    "plt.ylabel('Bending Potential Energy (kbT)')\n",
    "plt.xlabel('Monte Carlo Step')\n",
    "plt.plot(range(0,nsteps+1), energy_lst)\n",
    "plt.show()\n",
    "\n",
    "# Plot mean curvature\n",
    "plt.figure(figsize=[8,5])\n",
    "plt.ylabel('Mean Curvature')\n",
    "plt.xlabel('Monte Carlo Step')\n",
    "plt.plot(range(0,nsteps+1,nframes), H_lst)\n",
    "plt.show()\n",
    "\n",
    "# Plot Gaussian curvature\n",
    "plt.figure(figsize=[8,5])\n",
    "plt.ylabel('Gaussian Curvature')\n",
    "plt.xlabel('Monte Carlo Step')\n",
    "plt.plot(range(0,nsteps+1,nframes), K_lst)\n",
    "plt.show()"
   ]
  },
  {
   "cell_type": "markdown",
   "id": "3af6f009-e3eb-4ad3-977f-1f80deeeb49a",
   "metadata": {},
   "source": [
    "#### Take mean of height (from equilibrium sampled region)\n",
    "##### Is average membrane structure flat?\n",
    "\n",
    "#### Take mean squared height\n",
    "##### How does membrane thickness compare to CWT..?\n",
    "\n",
    "$\\langle h(\\textbf{r})^{2} \\rangle = \\frac{k_bT}{16\\pi \\kappa} L^{2} $"
   ]
  },
  {
   "cell_type": "code",
   "execution_count": 7,
   "id": "36f3f33f-10f8-4219-a779-98b66e9f9371",
   "metadata": {},
   "outputs": [],
   "source": [
    "# Calculate values every <nframes>\n",
    "nframes = 10\n",
    "\n",
    "mean_height   = 0 #np.zeros( (len(params.X), len(params.Y)) )\n",
    "meansq_height = 0 #np.zeros( (len(params.X), len(params.Y)) )\n",
    "\n",
    "for membrane in membrane_lst[::nframes]:\n",
    "\n",
    "    # Calculate height\n",
    "    mem_height     = calc_height(membrane, params.X, params.Y)\n",
    "    mean_height   += np.sum(mem_height)\n",
    "    meansq_height += np.sum(mem_height**2)\n",
    "    \n",
    "mean_height   /= len(membrane_lst[::nframes])\n",
    "meansq_height /= len(membrane_lst[::nframes])\n",
    "\n",
    "cwt_meansq_h = params.kbT / (16 * np.pi * params.kappa_H) * params.l_x * params.l_y"
   ]
  },
  {
   "cell_type": "code",
   "execution_count": null,
   "id": "99e5b7f4-6634-4c12-8c9c-6a6d92190c7a",
   "metadata": {},
   "outputs": [],
   "source": [
    "print(f'''\n",
    "<h> = {mean_height} (simulated)\n",
    "<h> = 0.0 (CWT)\n",
    "\n",
    "<h^2> = {meansq_height} (simulated) \n",
    "<h^2> = {cwt_meansq_h} (CWT)''')"
   ]
  },
  {
   "cell_type": "markdown",
   "id": "e1fa8ab0-0465-4d6c-8f0d-cbb3b11b26fd",
   "metadata": {},
   "source": [
    "#### Visualising membrane curvature"
   ]
  },
  {
   "cell_type": "code",
   "execution_count": 9,
   "id": "b675d5a0-d849-4266-8f30-947d06267b35",
   "metadata": {},
   "outputs": [],
   "source": [
    "# Set plots as pop-ups\n",
    "%matplotlib qt"
   ]
  },
  {
   "cell_type": "code",
   "execution_count": 10,
   "id": "6d839f33-8b63-40c5-ad27-0c23c6f85e18",
   "metadata": {},
   "outputs": [
    {
     "data": {
      "text/plain": [
       "<matplotlib.animation.FuncAnimation at 0x2241cf03230>"
      ]
     },
     "execution_count": 10,
     "metadata": {},
     "output_type": "execute_result"
    }
   ],
   "source": [
    "# Visualise membrane curvatures with contour plot movie\n",
    "visualise(membrane_lst, nframes=10)"
   ]
  }
 ],
 "metadata": {
  "kernelspec": {
   "display_name": "Python 3 (ipykernel)",
   "language": "python",
   "name": "python3"
  },
  "language_info": {
   "codemirror_mode": {
    "name": "ipython",
    "version": 3
   },
   "file_extension": ".py",
   "mimetype": "text/x-python",
   "name": "python",
   "nbconvert_exporter": "python",
   "pygments_lexer": "ipython3",
   "version": "3.12.4"
  }
 },
 "nbformat": 4,
 "nbformat_minor": 5
}
